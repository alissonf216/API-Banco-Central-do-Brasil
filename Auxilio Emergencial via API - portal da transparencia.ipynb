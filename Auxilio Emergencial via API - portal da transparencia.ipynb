{
 "cells": [
  {
   "cell_type": "code",
   "execution_count": null,
   "id": "cd2b6dd2",
   "metadata": {},
   "outputs": [],
   "source": [
    "import requests\n",
    "import pandas as pd\n",
    "from IPython.display import display, Markdown\n",
    "import json\n",
    "from pandas import json_normalize\n",
    "import re"
   ]
  },
  {
   "cell_type": "code",
   "execution_count": null,
   "id": "e2a61c1b",
   "metadata": {},
   "outputs": [],
   "source": [
    "#Dados da API do portal da transparencia\n",
    "url = \"http://api.portaldatransparencia.gov.br/api-de-dados/auxilio-emergencial-por-cpf-ou-nis\"\n",
    "headers = {\"chave-api-dados\" : \"20a6298aec215071315eb9659f582aa0\"}"
   ]
  },
  {
   "cell_type": "code",
   "execution_count": null,
   "id": "c4927c0e",
   "metadata": {},
   "outputs": [],
   "source": [
    "# df é o dataframe onde vão ficar todos os resultados da buscar dos funcionanrios na base do portal da transparencia\n",
    "# df funcionario é a base de funcionarios do banco. (está na pasta de 4.auditoria/.../)\n",
    "df = pd.DataFrame()\n",
    "df_funcionarios = pd.read_excel('cpf-func.xlsx')\n"
   ]
  },
  {
   "cell_type": "code",
   "execution_count": null,
   "id": "99a6eed3",
   "metadata": {},
   "outputs": [],
   "source": [
    "df_funcionarios.head()"
   ]
  },
  {
   "cell_type": "markdown",
   "id": "a13d6332",
   "metadata": {},
   "source": [
    "### Para buscar por cpf no portal da transparencia o cpf como chave ele não deve conter pontos espaços ou traços, vamos remove-los.\n",
    "## Caso o capo já venha sem espaços e pontos nao rode esse celula"
   ]
  },
  {
   "cell_type": "code",
   "execution_count": null,
   "id": "f65a2deb",
   "metadata": {},
   "outputs": [],
   "source": [
    "#Para buscar por cpf no portal da transparencia o cpf como chave ele não deve conter pontos espaços ou traços, vamos remove-los.\n",
    "#Caso o capo já venha sem espaços e pontos nao rode esse celula\n",
    "df_funcionarios['cpf'] = df_funcionarios['cpf'].str.replace(r'[^\\w\\s]+', '')\n"
   ]
  },
  {
   "cell_type": "code",
   "execution_count": null,
   "id": "dd1b798f",
   "metadata": {},
   "outputs": [],
   "source": [
    "df_funcionarios.head()"
   ]
  },
  {
   "cell_type": "code",
   "execution_count": null,
   "id": "e644d49f",
   "metadata": {},
   "outputs": [],
   "source": [
    "# Estrutura de repetição que faz a comparcao das bases e adiciona os resultados na linha abaixo do resultado anterior.\n",
    "cont = 0\n",
    "while cont < len(df_funcionarios['cpf']):\n",
    "    codigoBeneficiario = df_funcionarios['cpf'][cont]\n",
    "    params = {'codigoBeneficiario':codigoBeneficiario, 'pagina':1}\n",
    "    resultado = requests.get(url, params=params, headers=headers)\n",
    "    print(resultado)\n",
    "    resultado_completo = resultado.json()\n",
    "\n",
    "    df = df.append(pd.DataFrame.from_dict(json_normalize(resultado_completo), orient='columns'))\n",
    "    cont = cont + 1"
   ]
  },
  {
   "cell_type": "markdown",
   "id": "2d6e43d5",
   "metadata": {},
   "source": [
    "### Tipos de resultados\n",
    "Se como resultado na linha a cima estiver Response [401] ou [400] é que o numero do cpf de alguém na base está errado.\n",
    "\n",
    "Caso venha o resultado como <Response [200]> é que a busca pelo termo foi correta."
   ]
  },
  {
   "cell_type": "code",
   "execution_count": null,
   "id": "b8839797",
   "metadata": {},
   "outputs": [],
   "source": [
    "#Visualizando os resultados\n",
    "\n",
    "df.head()"
   ]
  },
  {
   "cell_type": "code",
   "execution_count": null,
   "id": "c4f2a0ca",
   "metadata": {},
   "outputs": [],
   "source": [
    "# exportar resultados da api para um excel \n",
    "#Troque o nome de 'olamundo.xlsx' para qualquer um que desejar.\n",
    "df.to_excel('olamundo.xlsx', engine='xlsxwriter')  "
   ]
  },
  {
   "cell_type": "markdown",
   "id": "fe9cf852",
   "metadata": {},
   "source": [
    "## ***Fim***"
   ]
  },
  {
   "cell_type": "code",
   "execution_count": null,
   "id": "0dfecafc",
   "metadata": {},
   "outputs": [],
   "source": []
  }
 ],
 "metadata": {
  "kernelspec": {
   "display_name": "Python 3",
   "language": "python",
   "name": "python3"
  },
  "language_info": {
   "codemirror_mode": {
    "name": "ipython",
    "version": 3
   },
   "file_extension": ".py",
   "mimetype": "text/x-python",
   "name": "python",
   "nbconvert_exporter": "python",
   "pygments_lexer": "ipython3",
   "version": "3.8.8"
  }
 },
 "nbformat": 4,
 "nbformat_minor": 5
}
